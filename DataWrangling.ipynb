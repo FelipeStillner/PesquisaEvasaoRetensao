{
 "cells": [
  {
   "cell_type": "markdown",
   "metadata": {},
   "source": [
    "# Data Wrangling"
   ]
  },
  {
   "cell_type": "code",
   "execution_count": 63,
   "metadata": {},
   "outputs": [],
   "source": [
    "# importing Libraries\n",
    "import pandas as pd\n",
    "import numpy as np\n",
    "import seaborn as sns\n",
    "import sqlite3 as sql"
   ]
  },
  {
   "cell_type": "code",
   "execution_count": 64,
   "metadata": {},
   "outputs": [],
   "source": [
    "# read dataFrame\n",
    "df = pd.read_csv(\"df.csv\", index_col=\"Unnamed: 0\")"
   ]
  },
  {
   "cell_type": "markdown",
   "metadata": {},
   "source": [
    "### Columns Manipulation"
   ]
  },
  {
   "cell_type": "code",
   "execution_count": 65,
   "metadata": {},
   "outputs": [],
   "source": [
    "# \"Semestre de ingresso no curso\" to \"Semestre de ingresso\"\n",
    "df[\"Semestre de ingresso\"] = df[\"Semestre de ingresso no curso\"]\n",
    "df.drop(columns=[\"Semestre de ingresso no curso\"], inplace=True)\n",
    "\n",
    "# \"Coeficiente de rendimento\" to \"CR\"\n",
    "df[\"CR\"] = df[\"Coeficiente de rendimento\"]\n",
    "df.drop(columns=[\"Coeficiente de rendimento\"], inplace=True)\n",
    "\n",
    "# \"Ano de ingresso\" and \"Semestre de ingresso\" to \"Ingresso\"\n",
    "df[\"Ingresso\"] = df[\"Ano de ingresso\"] + ((df[\"Semestre de ingresso\"]-1)*0.5)\n",
    "#df.drop(columns=[\"Ano de ingresso\", \"Semestre de ingresso\"], inplace=True)\n",
    "\n",
    "# \"Ano\" and \"Semestre\" to \"Data\"\n",
    "df[\"Data\"] = df[\"Ano\"] + ((df[\"Semestre\"]-1)*0.5)\n",
    "df.drop(columns=[\"Ano\", \"Semestre\"], inplace=True)\n",
    "\n",
    "# \"Mudou de curso - mesmo campus\" and \"Mudou de curso - outro campus\" to \"Mudou de Curso\"\n",
    "df[\"Mudou de curso\"] = (df[\"Mudou de curso - mesmo campus\"]==\"Sim\").astype(int) + 2*(df[\"Mudou de curso - outro campus\"]==\"Sim\").astype(int)\n",
    "df.drop(columns=[\"Mudou de curso - mesmo campus\", \"Mudou de curso - outro campus\"], inplace=True)\n",
    "\n",
    "# \"Forma de ingresso\" to \"Sisu\"\n",
    "df[\"Sisu\"] = df[\"Forma de ingresso\"] == \"SISU - Sistema de Seleção Unificada\"\n",
    "\n",
    "# \"Data de nascimento\" to \"Ano de nascimento\"\n",
    "df[\"Ano de nascimento\"] = df[\"Data de nascimento\"].str[0:4].astype(int)\n",
    "df.drop(columns=[\"Data de nascimento\"], inplace=True)\n",
    "\n",
    "# \"Data\" and \"Ano de nascimento\" to \"Idade\"\n",
    "df[\"Idade\"] = df[\"Data\"].astype(int) - df[\"Ano de nascimento\"]\n",
    "\n",
    "# \"Gênero\" to \"Mulher\"\n",
    "df[\"Mulher\"] = df[\"Gênero\"] == \"Feminino\"\n",
    "df.drop(columns=[\"Gênero\"], inplace=True)\n",
    "\n",
    "# \"Tipo de cota\" to \"Cotista\"\n",
    "df[\"Cotista\"] = 1 - ((df[\"Tipo de cota\"] == \"Não cotista\") + (df[\"Tipo de cota\"] == \"Sem cotas\"))\n",
    "df.drop(columns=[\"Tipo de cota\"], inplace=True)\n",
    "\n",
    "# \"Data\", \"Ingresso\", \"Período\" to \"Atraso\"\n",
    "df[\"Atraso\"] = 1 + 2*(df[\"Data\"] - df[\"Ingresso\"]) - df[\"Período\"]\n",
    "\n",
    "# \"País de nascimento\" to \"Brasileiro\"\n",
    "df[\"Brasileiro\"] = df[\"País de nascimento\"] == \"Brasil\"\n",
    "df.drop(columns=[\"País de nascimento\"], inplace=True)\n",
    "\n",
    "# \"Cor ou raça\" to \"Branco\"\n",
    "df[\"Branco\"] = df[\"Cor ou raça\"] == \"Branca\"\n",
    "df.drop(columns=[\"Cor ou raça\"], inplace=True)\n",
    "\n",
    "# \"UF\" to \"Paraná\"\n",
    "df[\"Paraná\"] = df[\"UF SISU\"] == \"PR\"\n",
    "\n",
    "# \"Cidade\" to \"Curitiba\"\n",
    "df[\"Curitiba\"] = df[\"Município SISU\"] == \"Curitiba\"\n",
    "\n",
    "# \"Disciplinas aprovadas\", \"Disciplinas matriculadas\" to \"Disciplinas aprov/matr\"\n",
    "df[\"Disciplinas aprov/matr\"] = df[\"Disciplinas aprovadas\"]/df[\"Disciplinas matriculadas\"]\n",
    "df.replace([np.inf, -np.inf, np.nan], -1, inplace=True)\n",
    "df[\"Disciplinas aprov/matr\"] = (df[\"Disciplinas aprov/matr\"]*20).astype(int)/20\n",
    "df[\"Disciplinas aprov/matr\"] = (df[\"Disciplinas aprov/matr\"] > 1) * -1 + (df[\"Disciplinas aprov/matr\"] <= 1) * df[\"Disciplinas aprov/matr\"]\n",
    "df.replace(-1, np.nan, inplace=True)\n",
    "\n",
    "# \"Disciplinas reprovadas por fequência\", \"Disciplinas reprovadas por nota\" to \"Disciplinas reprovadas\"\n",
    "df[\"Disciplinas reprovadas\"] = df[\"Disciplinas reprovadas por frequência\"] + df[\"Disciplinas reprovadas por nota\"]"
   ]
  },
  {
   "cell_type": "markdown",
   "metadata": {},
   "source": [
    "### Complex Columns"
   ]
  },
  {
   "cell_type": "code",
   "execution_count": 66,
   "metadata": {},
   "outputs": [],
   "source": [
    "# \"Disciplinas matriculadas\" to \"Disciplinas matriculadas acumuladas\" using cumsum()\n",
    "df[\"Disciplinas matriculadas acumuladas\"] = df.sort_values(\"Data\").groupby(\"Código\")[\"Disciplinas matriculadas\"].cumsum()\n",
    "\n",
    "# \"Disciplinas aprovadas\" to \"Disciplinas aprovadas acumuladas\" using cumsum()\n",
    "df[\"Disciplinas aprovadas acumuladas\"] = df.sort_values(\"Data\").groupby(\"Código\")[\"Disciplinas aprovadas\"].cumsum()\n",
    "\n",
    "# \"Disciplinas reprovadas por nota\" to \"Disciplinas reprovadas por nota acumuladas\" using cumsum()\n",
    "df[\"Disciplinas reprovadas por nota acumuladas\"] = df.sort_values(\"Data\").groupby(\"Código\")[\"Disciplinas reprovadas por nota\"].cumsum()\n",
    "\n",
    "# \"Disciplinas reprovadas por frequência\" to \"Disciplinas reprovadas por frequência acumuladas\" using cumsum()\n",
    "df[\"Disciplinas reprovadas por frequência acumuladas\"] = df.sort_values(\"Data\").groupby(\"Código\")[\"Disciplinas reprovadas por frequência\"].cumsum()\n",
    "\n",
    "# \"Disciplinas consignadas\" to \"Disciplinas consignadas acumuladas\" using cumsum()\n",
    "df[\"Disciplinas consignadas acumuladas\"] = df.sort_values(\"Data\").groupby(\"Código\")[\"Disciplinas consignadas\"].cumsum()\n",
    "\n",
    "# \"Disciplinas reprovadas\" to \"Disciplinas reprovadas acumuladas\" using cumsum()\n",
    "df[\"Disciplinas reprovadas acumuladas\"] = df.sort_values(\"Data\").groupby(\"Código\")[\"Disciplinas reprovadas\"].cumsum()\n",
    "\n",
    "# \"Disciplinas aprovadas acumuladas\", \"Disciplinas matriculadas acumuladas\" to \"Disciplinas aprov/matr acumuladas\"\n",
    "df[\"Disciplinas aprov/matr acumuladas\"] = df[\"Disciplinas aprovadas acumuladas\"]/df[\"Disciplinas matriculadas acumuladas\"]\n",
    "df.replace([np.inf, -np.inf, np.nan], -1, inplace=True)\n",
    "df[\"Disciplinas aprov/matr acumuladas\"] = (df[\"Disciplinas aprov/matr acumuladas\"]*20).astype(int)/20\n",
    "df[\"Disciplinas aprov/matr acumuladas\"] = (df[\"Disciplinas aprov/matr acumuladas\"] > 1) * -1 + (df[\"Disciplinas aprov/matr acumuladas\"] <= 1) * df[\"Disciplinas aprov/matr acumuladas\"]\n",
    "df.replace(-1, np.nan, inplace=True)\n",
    "\n"
   ]
  },
  {
   "cell_type": "markdown",
   "metadata": {},
   "source": [
    "### Droping data\n"
   ]
  },
  {
   "cell_type": "code",
   "execution_count": 67,
   "metadata": {},
   "outputs": [],
   "source": [
    "df.dropna(axis=0, subset=\"CR\", inplace=True)"
   ]
  },
  {
   "cell_type": "markdown",
   "metadata": {},
   "source": [
    "### New Dataframes\n"
   ]
  },
  {
   "cell_type": "code",
   "execution_count": 68,
   "metadata": {},
   "outputs": [],
   "source": [
    "# Select the first occurence of each student\n",
    "first_df = df.sort_values(by=[\"Código\", 'Data'], ascending=True)\n",
    "first_df.drop_duplicates(subset=['Código'], keep='first', inplace=True)\n",
    "# Selecting the last occurence of each student\n",
    "last_df = df.sort_values(by=[\"Código\", 'Data'], ascending=True)\n",
    "last_df.drop_duplicates(subset=['Código'], keep='last', inplace=True)"
   ]
  },
  {
   "cell_type": "markdown",
   "metadata": {},
   "source": [
    "### Others new Columns"
   ]
  },
  {
   "cell_type": "code",
   "execution_count": 69,
   "metadata": {},
   "outputs": [],
   "source": [
    "# Column to check if the student ended the course\n",
    "formados = last_df[last_df[\"Situação\"].isin([\"Formado\", \"Enade pendente\"])][\"Código\"].to_list()\n",
    "df[\"Formou\"] = df['Código'].isin(formados)\n",
    "\n",
    "# Column to check if the student left the course\n",
    "evadidos = last_df[last_df[\"Situação\"].isin([\"Desistente\", \"Mudou de Curso\", \"Transferido\", \"Jubilado\", \"Falecido\"])][\"Código\"].to_list()\n",
    "df[\"Evadiu\"] = df['Código'].isin(evadidos)\n",
    "\n",
    "# Column to check if the student left the course in this semester\n",
    "df[\"Evadiu nesse semestre\"] = df[\"Situação\"].isin([\"Desistente\", \"Mudou de Curso\", \"Transferido\", \"Jubilado\", \"Falecido\"])\n",
    "\n",
    "# Column to check if the student ended the course in this semester\n",
    "df[\"Formou nesse semestre\"] = df[\"Situação\"].isin([\"Formado\", \"Enade pendente\"])"
   ]
  },
  {
   "cell_type": "code",
   "execution_count": 70,
   "metadata": {},
   "outputs": [],
   "source": [
    "df = df.sort_index(axis=1)"
   ]
  },
  {
   "cell_type": "markdown",
   "metadata": {},
   "source": []
  },
  {
   "cell_type": "code",
   "execution_count": 71,
   "metadata": {},
   "outputs": [],
   "source": [
    "# Select the first occurence of each student\n",
    "first_df = df.sort_values(by=[\"Código\", 'Data'], ascending=True)\n",
    "first_df.drop_duplicates(subset=['Código'], keep='first', inplace=True)\n",
    "# Selecting the lasr occurence of each student\n",
    "last_df = df.sort_values(by=[\"Código\", 'Data'], ascending=True)\n",
    "last_df.drop_duplicates(subset=['Código'], keep='last', inplace=True)\n",
    "# Selecting the Students that left the course\n",
    "left_df = df[df[\"Evadiu\"] == 1]\n",
    "# Selecting the Students that are late in th course\n",
    "late_df = df[df[\"Atraso\"] >= 1]\n",
    "# Selecting the Students that are late in th course\n",
    "allTrajetory_df = df[np.logical_or(df[\"Evadiu\"] == 1, df[\"Formou\"] == 1)]"
   ]
  },
  {
   "cell_type": "code",
   "execution_count": 72,
   "metadata": {},
   "outputs": [
    {
     "data": {
      "text/plain": [
       "7524"
      ]
     },
     "execution_count": 72,
     "metadata": {},
     "output_type": "execute_result"
    }
   ],
   "source": [
    "c = sql.connect(\"db.db\")\n",
    "df.to_sql(\"df\", con=c, if_exists=\"replace\")\n",
    "last_df.to_sql(\"last_df\", con=c, if_exists=\"replace\")\n",
    "first_df.to_sql(\"first_df\", con=c, if_exists=\"replace\")\n",
    "left_df.to_sql(\"left_df\", con=c, if_exists=\"replace\")\n",
    "late_df.to_sql(\"late_df\", con=c, if_exists=\"replace\")\n",
    "allTrajetory_df.to_sql(\"allTrajetory_df\", con=c, if_exists=\"replace\")"
   ]
  }
 ],
 "metadata": {
  "kernelspec": {
   "display_name": "Python 3",
   "language": "python",
   "name": "python3"
  },
  "language_info": {
   "codemirror_mode": {
    "name": "ipython",
    "version": 3
   },
   "file_extension": ".py",
   "mimetype": "text/x-python",
   "name": "python",
   "nbconvert_exporter": "python",
   "pygments_lexer": "ipython3",
   "version": "3.10.4"
  }
 },
 "nbformat": 4,
 "nbformat_minor": 2
}
